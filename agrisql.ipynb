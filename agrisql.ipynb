{
 "cells": [
  {
   "cell_type": "code",
   "execution_count": null,
   "id": "90d13eec",
   "metadata": {},
   "outputs": [],
   "source": [
    "!pip install sqlalchemy pymysql"
   ]
  },
  {
   "cell_type": "code",
   "execution_count": 3,
   "id": "6d73af48",
   "metadata": {},
   "outputs": [],
   "source": [
    "import mysql.connector\n",
    "mydb = mysql.connector.connect(\n",
    " host=\"localhost\",\n",
    " user=\"root\",\n",
    " password=\"vijimathi\",\n",
    " database=\"\"\n",
    ")\n",
    "mycursor = mydb.cursor(buffered=True)"
   ]
  },
  {
   "cell_type": "code",
   "execution_count": 4,
   "id": "fbd0ad8c",
   "metadata": {},
   "outputs": [],
   "source": [
    "mycursor.execute(\"create database agri\")"
   ]
  },
  {
   "cell_type": "code",
   "execution_count": 6,
   "id": "7cde676d",
   "metadata": {},
   "outputs": [],
   "source": [
    "import pandas as pd\n",
    "from sqlalchemy import create_engine\n",
    "username=\"root\"\n",
    "password=\"vijimathi\"\n",
    "host=\"localhost\"\n",
    "port=3306\n",
    "database=\"agri\"\n",
    "engine = create_engine(f\"mysql+pymysql://{username}:{password}@{host}:{port}/{database}\")"
   ]
  },
  {
   "cell_type": "code",
   "execution_count": 7,
   "id": "4ae8088f",
   "metadata": {},
   "outputs": [],
   "source": [
    "df=pd.read_csv(\"C:/Users/Hp/Downloads/ICRISAT-District Level Data - ICRISAT-District Level Data.csv\")"
   ]
  },
  {
   "cell_type": "code",
   "execution_count": 8,
   "id": "2261a71e",
   "metadata": {},
   "outputs": [
    {
     "data": {
      "text/plain": [
       "16146"
      ]
     },
     "execution_count": 8,
     "metadata": {},
     "output_type": "execute_result"
    }
   ],
   "source": [
    "df.to_sql(name='power', con=engine, if_exists='replace', index=False)"
   ]
  }
 ],
 "metadata": {
  "kernelspec": {
   "display_name": ".venv",
   "language": "python",
   "name": "python3"
  },
  "language_info": {
   "codemirror_mode": {
    "name": "ipython",
    "version": 3
   },
   "file_extension": ".py",
   "mimetype": "text/x-python",
   "name": "python",
   "nbconvert_exporter": "python",
   "pygments_lexer": "ipython3",
   "version": "3.13.3"
  }
 },
 "nbformat": 4,
 "nbformat_minor": 5
}
